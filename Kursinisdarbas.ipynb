{
  "nbformat": 4,
  "nbformat_minor": 0,
  "metadata": {
    "colab": {
      "provenance": [],
      "authorship_tag": "ABX9TyP0CnZxVuDS0l0txmsP44MJ",
      "include_colab_link": true
    },
    "kernelspec": {
      "name": "python3",
      "display_name": "Python 3"
    },
    "language_info": {
      "name": "python"
    }
  },
  "cells": [
    {
      "cell_type": "markdown",
      "metadata": {
        "id": "view-in-github",
        "colab_type": "text"
      },
      "source": [
        "<a href=\"https://colab.research.google.com/github/Pijus24/Tic_tac_toe-kursinis-darbas/blob/main/Kursinisdarbas.ipynb\" target=\"_parent\"><img src=\"https://colab.research.google.com/assets/colab-badge.svg\" alt=\"Open In Colab\"/></a>"
      ]
    },
    {
      "cell_type": "markdown",
      "source": [
        "**Encapsulation**\n",
        " is about bundling data and methods inside classes and controlling access."
      ],
      "metadata": {
        "id": "_zvt4METqt0p"
      }
    },
    {
      "cell_type": "code",
      "source": [
        "class GameBoard:\n",
        "    def __init__(self):\n",
        "        self.state = [\"\"] * 9\n",
        "\n",
        "    def is_cell_empty(self, index):\n",
        "    def update_cell(self, index, symbol):\n",
        "    def is_full(self):\n",
        "    def check_winner(self, symbol):\n",
        "    def reset(self):\n"
      ],
      "metadata": {
        "id": "CniTLtOOq4pC"
      },
      "execution_count": null,
      "outputs": []
    },
    {
      "cell_type": "markdown",
      "source": [
        "GameBoard encapsulates board state and game logic (like checking for winner, full board, etc.)."
      ],
      "metadata": {
        "id": "g14f98C_sR36"
      }
    },
    {
      "cell_type": "markdown",
      "source": [
        "\n",
        "\n",
        "---\n",
        "\n"
      ],
      "metadata": {
        "id": "1Eug97HwtQz5"
      }
    },
    {
      "cell_type": "markdown",
      "source": [
        "\n",
        "**Abstraction** hides complex details behind simple method names, especially using abstract base classes.\n",
        "\n",
        "\n",
        "\n"
      ],
      "metadata": {
        "id": "G5QYkv29q65J"
      }
    },
    {
      "cell_type": "code",
      "source": [
        "from abc import ABC, abstractmethod\n",
        "\n",
        "class Player(ABC):\n",
        "    def __init__(self, symbol):\n",
        "        self.symbol = symbol\n",
        "\n",
        "    @abstractmethod\n",
        "    def make_move(self, game_manager):\n",
        "        pass\n"
      ],
      "metadata": {
        "id": "pFL8GJ8drf8q"
      },
      "execution_count": null,
      "outputs": []
    },
    {
      "cell_type": "markdown",
      "source": [
        "Player is an abstract class — users of the class don't need to know how a player makes a move, only that they wil"
      ],
      "metadata": {
        "id": "YaaWL9Thr2r6"
      }
    },
    {
      "cell_type": "markdown",
      "source": [
        "\n",
        "\n",
        "---\n",
        "\n"
      ],
      "metadata": {
        "id": "5okSDQE2tTi3"
      }
    },
    {
      "cell_type": "markdown",
      "source": [
        "**Inheritance** allows one class to inherit behavior and properties from another."
      ],
      "metadata": {
        "id": "YK0qfFWnr7qV"
      }
    },
    {
      "cell_type": "code",
      "source": [
        "class HumanPlayer(Player):\n",
        "    def make_move(self, game_manager):\n",
        "        pass\n",
        "\n",
        "class AIPlayer(Player):\n",
        "    def make_move(self, game_manager):\n",
        "\n"
      ],
      "metadata": {
        "id": "lQe95gfGs6k5"
      },
      "execution_count": null,
      "outputs": []
    },
    {
      "cell_type": "markdown",
      "source": [
        "HumanPlayer and AIPlayer both extend the Player base class and provide their own implementation of make_move()."
      ],
      "metadata": {
        "id": "qP7I3yMctlKC"
      }
    },
    {
      "cell_type": "markdown",
      "source": [
        "\n",
        "\n",
        "---\n",
        "\n"
      ],
      "metadata": {
        "id": "YvCR4X3VtmZ0"
      }
    },
    {
      "cell_type": "markdown",
      "source": [
        "**Polymorphism** allows calling the same method on different types and getting different behavior."
      ],
      "metadata": {
        "id": "3UyU08gdtndu"
      }
    },
    {
      "cell_type": "code",
      "source": [
        "class Player:\n",
        "    def __init__(self, symbol):\n",
        "        self.symbol = symbol\n",
        "\n",
        "    def make_move(self, game_manager, index):\n",
        "        pass\n",
        "\n",
        "class PlayerX(Player):\n",
        "    def make_move(self, game_manager, index):\n",
        "        if game_manager.board.update_cell(index, self.symbol):\n",
        "            game_manager.buttons[index].config(text=self.symbol)\n",
        "            game_manager.after_move()\n",
        "\n",
        "class PlayerO(Player):\n",
        "    def make_move(self, game_manager, index):\n",
        "        if game_manager.board.update_cell(index, self.symbol):\n",
        "            game_manager.buttons[index].config(text=self.symbol)\n",
        "            game_manager.after_move()\n",
        "\n"
      ],
      "metadata": {
        "id": "4tNkWTLMtxWU"
      },
      "execution_count": null,
      "outputs": []
    },
    {
      "cell_type": "markdown",
      "source": [
        "And then in the game manager, polymorphism happens here:"
      ],
      "metadata": {
        "id": "Nlr5d1qEuASp"
      }
    },
    {
      "cell_type": "code",
      "source": [
        "def on_click(self, index):\n",
        "    self.current_player.make_move(self, index)"
      ],
      "metadata": {
        "id": "Ihpv64iuzUqZ"
      },
      "execution_count": null,
      "outputs": []
    },
    {
      "cell_type": "markdown",
      "source": [
        "\n",
        "\n",
        "---\n",
        "\n",
        "\n",
        "\n"
      ],
      "metadata": {
        "id": "yz-gHhzwuHDT"
      }
    },
    {
      "cell_type": "markdown",
      "source": [
        "**Singleton** restricts a class to only one instance"
      ],
      "metadata": {
        "id": "ONdUzznUuNyL"
      }
    },
    {
      "cell_type": "code",
      "source": [
        "class SingletonMeta(type):\n",
        "    _instance = None\n",
        "\n",
        "    def __call__(cls, *args, **kwargs):\n",
        "        if cls._instance is None:\n",
        "            cls._instance = super().__call__(*args, **kwargs)\n",
        "        return cls._instance\n",
        "\n",
        "class GameManager(metaclass=SingletonMeta):\n",
        "    ...\n"
      ],
      "metadata": {
        "id": "FSP7it7Wul0t"
      },
      "execution_count": null,
      "outputs": []
    },
    {
      "cell_type": "markdown",
      "source": [
        "GameManager uses SingletonMeta, meaning only one game manager instance will ever be created — even if you try to make more."
      ],
      "metadata": {
        "id": "BYTozLQourOd"
      }
    },
    {
      "cell_type": "markdown",
      "source": [
        "\n",
        "\n",
        "---\n",
        "\n"
      ],
      "metadata": {
        "id": "iuoQvzV5uw4n"
      }
    },
    {
      "cell_type": "markdown",
      "source": [
        "**Composition**"
      ],
      "metadata": {
        "id": "hbtOwthRuxmP"
      }
    },
    {
      "cell_type": "code",
      "source": [
        "class GameManager(metaclass=SingletonMeta):\n",
        "    def __init__(self, board):\n",
        "        self.board = board  # Composition\n"
      ],
      "metadata": {
        "id": "D13-TRkTvcva"
      },
      "execution_count": null,
      "outputs": []
    },
    {
      "cell_type": "markdown",
      "source": [
        "GameManager has a GameBoard instance as part of its internal logic.\n"
      ],
      "metadata": {
        "id": "P7fxKNPQveNT"
      }
    }
  ]
}